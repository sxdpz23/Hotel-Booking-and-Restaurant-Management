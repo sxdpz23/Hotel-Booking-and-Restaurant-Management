{
 "cells": [
  {
   "cell_type": "code",
   "execution_count": 2,
   "metadata": {},
   "outputs": [
    {
     "name": "stdout",
     "output_type": "stream",
     "text": [
      "Using pymysql…\n",
      "Connection Successful!!!\n"
     ]
    }
   ],
   "source": [
    "hostname = 'localhost'\n",
    "username = 'root'\n",
    "password = ''\n",
    "database = 'pythonconn'\n",
    "\n",
    "# Simple routine to run a query on a database and print the results:\n",
    "def doQuery( conn ) :\n",
    "    cur = conn.cursor()\n",
    "    \n",
    "    first='Raju'\n",
    "    last='Prajapati'\n",
    "    user='Blunderbuzz'\n",
    "    passw='13452'  \n",
    "       \n",
    "    #    cur.execute( \"SELECT uname, pname FROM employee\" )\n",
    "    cur.execute( \"INSERT INTO `employee1` VALUES (%s,%s,%s,%s);\",(first, last, user, passw) )\n",
    "    cur.execute( \"SELECT * FROM employee1 WHERE fname=%s;\",(first) )\n",
    "\n",
    "    for firstname, lastname, username, password in cur.fetchall() :\n",
    "        print (firstname, lastname, username, password) \n",
    "    print (\"Connection Successful!!!\")\n",
    "\n",
    "print (\"Using pymysql…\")\n",
    "import pymysql\n",
    "myConnection = pymysql.connect( host=hostname, user=username, passwd=password, db=database )\n",
    "doQuery( myConnection )\n",
    "myConnection.close()"
   ]
  },
  {
   "cell_type": "code",
   "execution_count": 28,
   "metadata": {},
   "outputs": [
    {
     "name": "stdout",
     "output_type": "stream",
     "text": [
      "Using pymysql…\n",
      "Connection Successful!!!\n"
     ]
    }
   ],
   "source": [
    "hostname = 'localhost'\n",
    "username = 'sxdpz13'\n",
    "password = 'sxdpz@13'\n",
    "database = 'pythonconn'\n",
    "\n",
    "# Simple routine to run a query on a database and print the results:\n",
    "def doQuery( conn ) :\n",
    "    cur = conn.cursor()\n",
    "    #    cur.execute( \"SELECT uname, pname FROM employee1\" )\n",
    "#    cur.execute(\"INSERT INTO `employee1` VALUES ('admin','admin','admin','admin');\")\n",
    "    cur.execute(\"SELECT * FROM employee1 WHERE fname='admin';\")\n",
    "\n",
    "    for firstname, lastname, username, password in cur.fetchall() :\n",
    "        print (firstname, lastname, username, password) \n",
    "\n",
    "print (\"Using pymysql…\")\n",
    "import pymysql\n",
    "myConnection = pymysql.connect( host=hostname, user=username, passwd=password, db=database )\n",
    "doQuery( myConnection )\n",
    "myConnection.close()\n",
    "print (\"Connection Successful!!!\")"
   ]
  }
 ],
 "metadata": {
  "kernelspec": {
   "display_name": "Python 3",
   "language": "python",
   "name": "python3"
  },
  "language_info": {
   "codemirror_mode": {
    "name": "ipython",
    "version": 3
   },
   "file_extension": ".py",
   "mimetype": "text/x-python",
   "name": "python",
   "nbconvert_exporter": "python",
   "pygments_lexer": "ipython3",
   "version": "3.6.3"
  }
 },
 "nbformat": 4,
 "nbformat_minor": 2
}
