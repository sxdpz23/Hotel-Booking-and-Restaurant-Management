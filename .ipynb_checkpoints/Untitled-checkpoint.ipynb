{
 "cells": [
  {
   "cell_type": "code",
   "execution_count": 2,
   "metadata": {},
   "outputs": [
    {
     "data": {
      "text/plain": [
       "\"SELECT fname, lname, uname, pname FROM employee WHERE fname='Shreyas'\""
      ]
     },
     "execution_count": 2,
     "metadata": {},
     "output_type": "execute_result"
    }
   ],
   "source": [
    "#!/usr/bin/python\n",
    "first='Shreyas'\n",
    "last='Patil'\n",
    "user='Flamestriker'\n",
    "passw='12345' \n",
    "comma=\"','\"\n",
    "end=\"')\"\n",
    "start=\"INSERT INTO `employee` VALUES ('\"\n",
    "end0=\"'\"\n",
    "start0=\"SELECT fname, lname, uname, pname FROM employee WHERE fname='\"\n",
    "query= start+first+comma+last+comma+user+comma+passw+end \n",
    "query0= start0+first+end0\n",
    "query1 = '{0}'.format(query0)\n",
    "query1"
   ]
  },
  {
   "cell_type": "code",
   "execution_count": 7,
   "metadata": {},
   "outputs": [
    {
     "data": {
      "text/plain": [
       "\"SELECT fname, lname, uname, pname FROM employee WHERE fname='Shreyas'\""
      ]
     },
     "execution_count": 7,
     "metadata": {},
     "output_type": "execute_result"
    }
   ],
   "source": [
    "query0"
   ]
  }
 ],
 "metadata": {
  "kernelspec": {
   "display_name": "Python 3",
   "language": "python",
   "name": "python3"
  },
  "language_info": {
   "codemirror_mode": {
    "name": "ipython",
    "version": 3
   },
   "file_extension": ".py",
   "mimetype": "text/x-python",
   "name": "python",
   "nbconvert_exporter": "python",
   "pygments_lexer": "ipython3",
   "version": "3.6.3"
  }
 },
 "nbformat": 4,
 "nbformat_minor": 2
}
